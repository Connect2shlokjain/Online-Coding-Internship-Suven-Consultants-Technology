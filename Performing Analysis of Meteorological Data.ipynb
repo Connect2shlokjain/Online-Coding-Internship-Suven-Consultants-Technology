{
 "cells": [
  {
   "cell_type": "markdown",
   "id": "a76d325c",
   "metadata": {},
   "source": [
    "# Applying Data Analysis on Weather data of Data Set : Finland Country in duration 2006-04-01 to 2016-09-09"
   ]
  },
  {
   "cell_type": "markdown",
   "id": "d5478f3b",
   "metadata": {},
   "source": [
    "## Data Set link : https://drive.google.com/open?id=1ScF_1a-bkHi1qe8Rn78uxK6_5QwUD9Bu"
   ]
  },
  {
   "cell_type": "markdown",
   "id": "2835e718",
   "metadata": {},
   "source": [
    "The following anaylsis is created by : Shlok Jain\n",
    "for better refence of Data use : https://www.kaggle.com/datasets/muthuj7/weather-dataset"
   ]
  },
  {
   "cell_type": "markdown",
   "id": "8ce6d272",
   "metadata": {},
   "source": [
    "Importing Basic Libraries"
   ]
  },
  {
   "cell_type": "code",
   "execution_count": null,
   "id": "700496fa",
   "metadata": {},
   "outputs": [],
   "source": [
    "import pandas as pd\n",
    "import numpy as np\n",
    "import seaborn as sns\n",
    "import matplotlib.pyplot as plt\n",
    "%matplotlib inline"
   ]
  },
  {
   "cell_type": "code",
   "execution_count": null,
   "id": "cb2111f5",
   "metadata": {},
   "outputs": [],
   "source": [
    "finland_weather = pd.read_csv('weatherHistory.csv')"
   ]
  },
  {
   "cell_type": "code",
   "execution_count": null,
   "id": "aab43c5b",
   "metadata": {},
   "outputs": [],
   "source": [
    "finland_weather.head()"
   ]
  },
  {
   "cell_type": "code",
   "execution_count": null,
   "id": "8e283717",
   "metadata": {
    "scrolled": true
   },
   "outputs": [],
   "source": [
    "finland_weather.tail(10)"
   ]
  },
  {
   "cell_type": "code",
   "execution_count": null,
   "id": "0c884950",
   "metadata": {},
   "outputs": [],
   "source": [
    "finland_weather.shape"
   ]
  },
  {
   "cell_type": "code",
   "execution_count": null,
   "id": "ddedbb7e",
   "metadata": {},
   "outputs": [],
   "source": [
    "finland_weather.describe()"
   ]
  },
  {
   "cell_type": "code",
   "execution_count": null,
   "id": "fc7542bc",
   "metadata": {},
   "outputs": [],
   "source": [
    "finland_weather.isnull().sum()"
   ]
  },
  {
   "cell_type": "code",
   "execution_count": null,
   "id": "92ebef59",
   "metadata": {},
   "outputs": [],
   "source": [
    "sns.relplot(x=\"Apparent Temperature (C)\",y=\"Temperature (C)\",data=finland_weather)"
   ]
  },
  {
   "cell_type": "code",
   "execution_count": null,
   "id": "c2b9629a",
   "metadata": {},
   "outputs": [],
   "source": [
    "sns.relplot(x=\"Apparent Temperature (C)\",y=\"Humidity\",data=finland_weather)"
   ]
  },
  {
   "cell_type": "code",
   "execution_count": null,
   "id": "04864329",
   "metadata": {},
   "outputs": [],
   "source": [
    "sns.relplot(x=\"Apparent Temperature (C)\",y=\"Pressure (millibars)\",data=finland_weather)"
   ]
  },
  {
   "cell_type": "code",
   "execution_count": null,
   "id": "8b63e661",
   "metadata": {},
   "outputs": [],
   "source": [
    " sns.relplot(x=\"Apparent Temperature (C)\",y=\"Pressure (millibars)\",hue='Temperature (C)',data=finland_weather)"
   ]
  },
  {
   "cell_type": "code",
   "execution_count": null,
   "id": "1173784a",
   "metadata": {},
   "outputs": [],
   "source": [
    "finland_weather.corr()"
   ]
  }
 ],
 "metadata": {
  "kernelspec": {
   "display_name": "Python 3 (ipykernel)",
   "language": "python",
   "name": "python3"
  },
  "language_info": {
   "codemirror_mode": {
    "name": "ipython",
    "version": 3
   },
   "file_extension": ".py",
   "mimetype": "text/x-python",
   "name": "python",
   "nbconvert_exporter": "python",
   "pygments_lexer": "ipython3",
   "version": "3.9.7"
  }
 },
 "nbformat": 4,
 "nbformat_minor": 5
}
